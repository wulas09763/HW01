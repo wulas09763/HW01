{
 "cells": [
  {
   "cell_type": "code",
   "execution_count": 47,
   "metadata": {},
   "outputs": [
    {
     "name": "stdout",
     "output_type": "stream",
     "text": [
      "[ 0  1  2  3  4  5  6  7  8  9 10 11 12 13 14 15 16 17 18 19 20]\n",
      "[0, 2, 4, 6, 8, 10, 12, 14, 16, 18, 20]\n",
      "[0, 3, 6, 9, 12, 15, 18]\n"
     ]
    }
   ],
   "source": [
    "import numpy as np\n",
    "a = np.arange(0, 21, 1)\n",
    "print(a)\n",
    "#print(len(a))\n",
    "xx = []\n",
    "cc = []\n",
    "#c = 0\n",
    "\n",
    "# 將以上a數列取出偶數。\n",
    "for z in range(len(a)):\n",
    "    #print(z)\n",
    "    if(a[z]%2==0):\n",
    "        #不能寫xx[c]=a[z]，因為剛開始定義xx為空陣列，所以不存在xx[0]會報錯IndexError: list assignment index out of range\n",
    "        # https://blog.csdn.net/Norsaa/article/details/77674193\n",
    "        xx.append(a[z])\n",
    "print(xx)\n",
    "\n",
    "# 將以上a數列取出 3 的倍數。\n",
    "for z in range(len(a)):\n",
    "    #print(z)\n",
    "    if(a[z]%3==0):\n",
    "        #不能寫xx[c]=a[z]，因為剛開始定義xx為空陣列，所以不存在xx[0]會報錯IndexError: list assignment index out of range\n",
    "        cc.append(a[z])\n",
    "print(cc)\n"
   ]
  }
 ],
 "metadata": {
  "kernelspec": {
   "display_name": "Python 3",
   "language": "python",
   "name": "python3"
  },
  "language_info": {
   "codemirror_mode": {
    "name": "ipython",
    "version": 3
   },
   "file_extension": ".py",
   "mimetype": "text/x-python",
   "name": "python",
   "nbconvert_exporter": "python",
   "pygments_lexer": "ipython3",
   "version": "3.7.7"
  }
 },
 "nbformat": 4,
 "nbformat_minor": 4
}
